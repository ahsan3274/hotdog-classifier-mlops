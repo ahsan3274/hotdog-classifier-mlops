{
 "cells": [
  {
   "cell_type": "markdown",
   "id": "6b5e10ca",
   "metadata": {},
   "source": [
    "# 🧪 Hotdog/Not Hotdog Classifier (Baseline HOG + Logistic Regression)"
   ]
  },
  {
   "cell_type": "code",
   "execution_count": 1,
   "id": "528ff6a5",
   "metadata": {},
   "outputs": [],
   "source": [
    "import os\n",
    "import cv2\n",
    "import numpy as np\n",
    "import mlflow\n",
    "import mlflow.sklearn\n",
    "from sklearn.linear_model import LogisticRegression\n",
    "from sklearn.metrics import accuracy_score\n",
    "from skimage.feature import hog\n",
    "import matplotlib.pyplot as plt\n",
    "\n",
    "# Config\n",
    "DATA_DIR = \"data\"\n",
    "TRAIN_HOTDOG = os.path.join(DATA_DIR, \"train\", \"hot_dog\")\n",
    "TRAIN_NOT = os.path.join(DATA_DIR, \"train\", \"not_hot_dog\")\n",
    "TEST_HOTDOG = os.path.join(DATA_DIR, \"test\", \"hot_dog\")\n",
    "TEST_NOT = os.path.join(DATA_DIR, \"test\", \"not_hot_dog\")\n",
    "IMAGE_SIZE = (128, 128)\n",
    "HOG_PARAMS = {\"orientations\": 9, \"pixels_per_cell\": (8, 8), \"cells_per_block\": (2, 2)}\n"
   ]
  },
  {
   "cell_type": "code",
   "execution_count": 2,
   "id": "a2cb503d",
   "metadata": {},
   "outputs": [],
   "source": [
    "def load_images(folder, label):\n",
    "    features, labels = [], []\n",
    "    for fname in os.listdir(folder):\n",
    "        path = os.path.join(folder, fname)\n",
    "        img = cv2.imread(path)\n",
    "        if img is None:\n",
    "            continue\n",
    "        img = cv2.resize(img, IMAGE_SIZE)\n",
    "        gray = cv2.cvtColor(img, cv2.COLOR_BGR2GRAY)\n",
    "        feature = hog(gray, **HOG_PARAMS)\n",
    "        features.append(feature)\n",
    "        labels.append(label)\n",
    "    return np.array(features), np.array(labels)\n"
   ]
  },
  {
   "cell_type": "code",
   "execution_count": 3,
   "id": "ea4c35cf",
   "metadata": {},
   "outputs": [],
   "source": [
    "X_train_hot, y_train_hot = load_images(TRAIN_HOTDOG, 1)\n",
    "X_train_not, y_train_not = load_images(TRAIN_NOT, 0)\n",
    "X_test_hot, y_test_hot = load_images(TEST_HOTDOG, 1)\n",
    "X_test_not, y_test_not = load_images(TEST_NOT, 0)\n",
    "\n",
    "X_train = np.concatenate([X_train_hot, X_train_not])\n",
    "y_train = np.concatenate([y_train_hot, y_train_not])\n",
    "X_test = np.concatenate([X_test_hot, X_test_not])\n",
    "y_test = np.concatenate([y_test_hot, y_test_not])\n"
   ]
  },
  {
   "cell_type": "code",
   "execution_count": 4,
   "id": "8169c238",
   "metadata": {},
   "outputs": [
    {
     "name": "stdout",
     "output_type": "stream",
     "text": [
      "Test accuracy: 0.5960\n"
     ]
    }
   ],
   "source": [
    "clf = LogisticRegression(max_iter=1000)\n",
    "clf.fit(X_train, y_train)\n",
    "preds = clf.predict(X_test)\n",
    "accuracy = accuracy_score(y_test, preds)\n",
    "print(f\"Test accuracy: {accuracy:.4f}\")\n"
   ]
  },
  {
   "cell_type": "code",
   "execution_count": 5,
   "id": "86d54afd",
   "metadata": {},
   "outputs": [
    {
     "data": {
      "text/plain": [
       "['logreg_model.pkl']"
      ]
     },
     "execution_count": 5,
     "metadata": {},
     "output_type": "execute_result"
    }
   ],
   "source": [
    "import joblib\n",
    "\n",
    "clf.fit(X_train, y_train)\n",
    "joblib.dump(clf, \"logreg_model.pkl\")\n"
   ]
  }
 ],
 "metadata": {
  "kernelspec": {
   "display_name": "Python (hotdog-venv)",
   "language": "python",
   "name": "hotdog-venv"
  },
  "language_info": {
   "codemirror_mode": {
    "name": "ipython",
    "version": 3
   },
   "file_extension": ".py",
   "mimetype": "text/x-python",
   "name": "python",
   "nbconvert_exporter": "python",
   "pygments_lexer": "ipython3",
   "version": "3.10.5"
  }
 },
 "nbformat": 4,
 "nbformat_minor": 5
}
