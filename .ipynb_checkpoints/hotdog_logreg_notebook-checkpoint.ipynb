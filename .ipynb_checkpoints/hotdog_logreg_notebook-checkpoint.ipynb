{
 "cells": [
  {
   "cell_type": "markdown",
   "id": "6b5e10ca",
   "metadata": {},
   "source": [
    "# 🧪 Hotdog/Not Hotdog Classifier (Baseline HOG + Logistic Regression)"
   ]
  },
  {
   "cell_type": "code",
   "execution_count": 1,
   "id": "528ff6a5",
   "metadata": {},
   "outputs": [],
   "source": [
    "import os\n",
    "import cv2\n",
    "import numpy as np\n",
    "import mlflow\n",
    "import mlflow.sklearn\n",
    "from sklearn.linear_model import LogisticRegression\n",
    "from sklearn.metrics import accuracy_score\n",
    "from skimage.feature import hog\n",
    "import matplotlib.pyplot as plt\n",
    "\n",
    "# Config\n",
    "DATA_DIR = \"data\"\n",
    "TRAIN_HOTDOG = os.path.join(DATA_DIR, \"train\", \"hot_dog\")\n",
    "TRAIN_NOT = os.path.join(DATA_DIR, \"train\", \"not_hot_dog\")\n",
    "TEST_HOTDOG = os.path.join(DATA_DIR, \"test\", \"hot_dog\")\n",
    "TEST_NOT = os.path.join(DATA_DIR, \"test\", \"not_hot_dog\")\n",
    "IMAGE_SIZE = (128, 128)\n",
    "HOG_PARAMS = {\"orientations\": 9, \"pixels_per_cell\": (8, 8), \"cells_per_block\": (2, 2)}\n"
   ]
  },
  {
   "cell_type": "code",
   "execution_count": 2,
   "id": "a2cb503d",
   "metadata": {},
   "outputs": [],
   "source": [
    "def load_images(folder, label):\n",
    "    features, labels = [], []\n",
    "    for fname in os.listdir(folder):\n",
    "        path = os.path.join(folder, fname)\n",
    "        img = cv2.imread(path)\n",
    "        if img is None:\n",
    "            continue\n",
    "        img = cv2.resize(img, IMAGE_SIZE)\n",
    "        gray = cv2.cvtColor(img, cv2.COLOR_BGR2GRAY)\n",
    "        feature = hog(gray, **HOG_PARAMS)\n",
    "        features.append(feature)\n",
    "        labels.append(label)\n",
    "    return np.array(features), np.array(labels)\n"
   ]
  },
  {
   "cell_type": "code",
   "execution_count": 3,
   "id": "ea4c35cf",
   "metadata": {},
   "outputs": [],
   "source": [
    "X_train_hot, y_train_hot = load_images(TRAIN_HOTDOG, 1)\n",
    "X_train_not, y_train_not = load_images(TRAIN_NOT, 0)\n",
    "X_test_hot, y_test_hot = load_images(TEST_HOTDOG, 1)\n",
    "X_test_not, y_test_not = load_images(TEST_NOT, 0)\n",
    "\n",
    "X_train = np.concatenate([X_train_hot, X_train_not])\n",
    "y_train = np.concatenate([y_train_hot, y_train_not])\n",
    "X_test = np.concatenate([X_test_hot, X_test_not])\n",
    "y_test = np.concatenate([y_test_hot, y_test_not])\n"
   ]
  },
  {
   "cell_type": "code",
   "execution_count": 4,
   "id": "8169c238",
   "metadata": {},
   "outputs": [
    {
     "name": "stdout",
     "output_type": "stream",
     "text": [
      "Test accuracy: 0.5960\n"
     ]
    }
   ],
   "source": [
    "clf = LogisticRegression(max_iter=1000)\n",
    "clf.fit(X_train, y_train)\n",
    "preds = clf.predict(X_test)\n",
    "accuracy = accuracy_score(y_test, preds)\n",
    "print(f\"Test accuracy: {accuracy:.4f}\")\n"
   ]
  },
  {
   "cell_type": "code",
   "execution_count": 6,
   "id": "c0dfe59e",
   "metadata": {},
   "outputs": [
    {
     "name": "stderr",
     "output_type": "stream",
     "text": [
      "2025/06/15 18:17:19 INFO mlflow.tracking.fluent: Experiment with name 'hotdog-classifier-loghog' does not exist. Creating a new experiment.\n"
     ]
    },
    {
     "name": "stdout",
     "output_type": "stream",
     "text": [
      "✅ Model logged to run ID: 2458734d7dd1453997f6fd1de4ca0d48\n",
      "🏃 View run exultant-hound-814 at: http://127.0.0.1:5000/#/experiments/0/runs/2458734d7dd1453997f6fd1de4ca0d48\n",
      "🧪 View experiment at: http://127.0.0.1:5000/#/experiments/0\n"
     ]
    },
    {
     "data": {
      "image/png": "[encoded data removed]",
      "text/plain": [
       "<Figure size 500x400 with 2 Axes>"
      ]
     },
     "metadata": {},
     "output_type": "display_data"
    }
   ],
   "source": [
    "from sklearn.metrics import accuracy_score, precision_score, recall_score, f1_score, confusion_matrix\n",
    "from mlflow.models.signature import infer_signature\n",
    "import seaborn as sns\n",
    "import matplotlib.pyplot as plt\n",
    "\n",
    "# Set MLflow tracking URI\n",
    "mlflow.set_tracking_uri(\"http://127.0.0.1:5000\")\n",
    "mlflow.set_experiment(\"hotdog-classifier-loghog\")\n",
    "\n",
    "# Evaluate and compute metrics\n",
    "preds = clf.predict(X_test)\n",
    "val_acc = accuracy_score(y_test, preds)\n",
    "precision = precision_score(y_test, preds)\n",
    "recall = recall_score(y_test, preds)\n",
    "f1 = f1_score(y_test, preds)\n",
    "signature = infer_signature(X_test, preds)\n",
    "\n",
    "# Confusion matrix plot\n",
    "cm = confusion_matrix(y_test, preds)\n",
    "plt.figure(figsize=(5,4))\n",
    "sns.heatmap(cm, annot=True, fmt='d', cmap=\"Blues\", xticklabels=['Not Hotdog', 'Hotdog'], yticklabels=['Not Hotdog', 'Hotdog'])\n",
    "plt.xlabel(\"Predicted\")\n",
    "plt.ylabel(\"Actual\")\n",
    "plt.title(\"Confusion Matrix\")\n",
    "plt.tight_layout()\n",
    "plt.savefig(\"conf_matrix.png\")\n",
    "\n",
    "# Log to MLflow\n",
    "with mlflow.start_run() as run:\n",
    "    mlflow.set_experiment(\"hotdog-classifier-loghog\")\n",
    "    mlflow.log_param(\"model\", \"HOG + LogisticRegression\")\n",
    "    mlflow.log_param(\"hog_orientations\", HOG_PARAMS[\"orientations\"])\n",
    "    mlflow.log_param(\"image_size\", IMAGE_SIZE)\n",
    "\n",
    "    mlflow.log_metric(\"val_acc\", val_acc)\n",
    "    mlflow.log_metric(\"precision\", precision)\n",
    "    mlflow.log_metric(\"recall\", recall)\n",
    "    mlflow.log_metric(\"f1_score\", f1)\n",
    "\n",
    "    mlflow.log_artifact(\"conf_matrix.png\")\n",
    "\n",
    "    mlflow.sklearn.log_model(\n",
    "        sk_model=clf,\n",
    "        artifact_path=\"model\",\n",
    "        signature=signature\n",
    "    )\n",
    "\n",
    "    print(\"✅ Model logged to run ID:\", run.info.run_id)\n",
    "\n"
   ]
  },
  {
   "cell_type": "code",
   "execution_count": null,
   "id": "57d375c2-ccb3-40a6-9d7f-26c41d166ec6",
   "metadata": {},
   "outputs": [],
   "source": []
  },
  {
   "cell_type": "code",
   "execution_count": null,
   "id": "d72b9e01-5185-4b46-b5c2-ecbe558ea4b4",
   "metadata": {},
   "outputs": [],
   "source": []
  }
 ],
 "metadata": {
  "kernelspec": {
   "display_name": "Python (hotdog-venv)",
   "language": "python",
   "name": "hotdog-venv"
  },
  "language_info": {
   "codemirror_mode": {
    "name": "ipython",
    "version": 3
   },
   "file_extension": ".py",
   "mimetype": "text/x-python",
   "name": "python",
   "nbconvert_exporter": "python",
   "pygments_lexer": "ipython3",
   "version": "3.10.5"
  }
 },
 "nbformat": 4,
 "nbformat_minor": 5
}
