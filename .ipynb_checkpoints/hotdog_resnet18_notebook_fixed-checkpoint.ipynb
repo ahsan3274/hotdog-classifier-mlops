{
 "cells": [
  {
   "cell_type": "markdown",
   "id": "3afb1c51",
   "metadata": {},
   "source": [
    "# 🧠 Hotdog Classifier (ResNet18 + Augmentations) with Flat Input Support for MLflow Serving"
   ]
  },
  {
   "cell_type": "code",
   "execution_count": null,
   "id": "70696dad",
   "metadata": {},
   "outputs": [],
   "source": [
    "# Wrapper to reshape flat input into [B, 3, 224, 224] before passing to CNN\n",
    "import torch.nn as nn\n",
    "\n",
    "class ReshapeWrapper(nn.Module):\n",
    "    def __init__(self, model):\n",
    "        super().__init__()\n",
    "        self.model = model\n",
    "    def forward(self, x):\n",
    "        x = x.view(-1, 3, 224, 224)\n",
    "        return self.model(x)\n",
    "\n",
    "# Wrap the trained model before logging to MLflow\n",
    "model = ReshapeWrapper(model)\n"
   ]
  },
  {
   "cell_type": "code",
   "execution_count": null,
   "id": "e75d8830",
   "metadata": {},
   "outputs": [],
   "source": [
    "import mlflow\n",
    "import mlflow.pytorch\n",
    "from mlflow.models.signature import infer_signature\n",
    "\n",
    "mlflow.set_tracking_uri(\"http://127.0.0.1:5000\")\n",
    "mlflow.set_experiment(\"hotdog-classifier-resnet18\")\n",
    "\n",
    "with mlflow.start_run():\n",
    "    mlflow.log_param(\"model\", \"ResNet18\")\n",
    "    mlflow.log_param(\"reshape_wrapper\", True)\n",
    "\n",
    "    mlflow.pytorch.log_model(\n",
    "        model,\n",
    "        \"model\",\n",
    "        signature=infer_signature(torch.randn(1, 3*224*224), model(torch.randn(1, 3*224*224)).detach())\n",
    "    )\n",
    "\n",
    "    print(\"✅ Model with reshape wrapper logged to MLflow.\")\n"
   ]
  }
 ],
 "metadata": {},
 "nbformat": 4,
 "nbformat_minor": 5
}