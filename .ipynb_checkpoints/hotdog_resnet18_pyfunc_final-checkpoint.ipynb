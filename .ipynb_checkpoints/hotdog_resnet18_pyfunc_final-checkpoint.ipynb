{
 "cells": [
  {
   "cell_type": "markdown",
   "id": "15aadb0c",
   "metadata": {},
   "source": [
    "# 🧠 Hotdog Classifier (ResNet18 with PyFunc Logging)"
   ]
  },
  {
   "cell_type": "code",
   "execution_count": null,
   "id": "3015b0d0",
   "metadata": {},
   "outputs": [],
   "source": [
    "import os\n",
    "import torch\n",
    "import torchvision\n",
    "import torch.nn as nn\n",
    "import torch.optim as optim\n",
    "from torchvision import datasets, transforms\n",
    "from torch.utils.data import DataLoader\n",
    "import mlflow\n",
    "import mlflow.pytorch\n",
    "from sklearn.metrics import accuracy_score, precision_score, recall_score, f1_score, confusion_matrix\n",
    "import matplotlib.pyplot as plt\n",
    "import seaborn as sns\n"
   ]
  },
  {
   "cell_type": "code",
   "execution_count": null,
   "id": "183831d5",
   "metadata": {},
   "outputs": [],
   "source": [
    "BATCH_SIZE = 32\n",
    "EPOCHS = 25\n",
    "NUM_CLASSES = 2\n",
    "LEARNING_RATE = 1e-4\n",
    "DEVICE = torch.device(\"cuda\" if torch.cuda.is_available() else \"cpu\")\n",
    "DATA_DIR = \"data\"\n"
   ]
  },
  {
   "cell_type": "code",
   "execution_count": null,
   "id": "6ca2eae4",
   "metadata": {},
   "outputs": [],
   "source": [
    "transform = transforms.Compose([\n",
    "    transforms.Resize((224, 224)),\n",
    "    transforms.RandomHorizontalFlip(),\n",
    "    transforms.RandomRotation(10),\n",
    "    transforms.ColorJitter(brightness=0.2, contrast=0.2, saturation=0.2, hue=0.1),\n",
    "    transforms.ToTensor(),\n",
    "    transforms.Normalize([0.485, 0.456, 0.406],\n",
    "                         [0.229, 0.224, 0.225])\n",
    "])\n",
    "\n",
    "train_dataset = datasets.ImageFolder(os.path.join(DATA_DIR, \"train\"), transform=transform)\n",
    "test_dataset = datasets.ImageFolder(os.path.join(DATA_DIR, \"test\"), transform=transform)\n",
    "train_loader = DataLoader(train_dataset, batch_size=BATCH_SIZE, shuffle=True, num_workers=2)\n",
    "test_loader = DataLoader(test_dataset, batch_size=BATCH_SIZE, shuffle=False, num_workers=2)\n"
   ]
  },
  {
   "cell_type": "code",
   "execution_count": null,
   "id": "d70ed648",
   "metadata": {},
   "outputs": [],
   "source": [
    "model = torchvision.models.resnet18(weights=torchvision.models.ResNet18_Weights.DEFAULT)\n",
    "model.fc = nn.Linear(model.fc.in_features, NUM_CLASSES)\n",
    "model = model.to(DEVICE).float()\n"
   ]
  },
  {
   "cell_type": "code",
   "execution_count": null,
   "id": "7fde62b8",
   "metadata": {},
   "outputs": [],
   "source": [
    "criterion = nn.CrossEntropyLoss()\n",
    "optimizer = optim.Adam(model.parameters(), lr=LEARNING_RATE)\n",
    "scheduler = optim.lr_scheduler.ReduceLROnPlateau(optimizer, mode='max', patience=2, factor=0.5)\n",
    "PATIENCE = 5\n",
    "best_val_acc = 0\n",
    "patience_counter = 0\n"
   ]
  },
  {
   "cell_type": "code",
   "execution_count": null,
   "id": "942fe3cb",
   "metadata": {},
   "outputs": [],
   "source": [
    "def evaluate(model, dataloader):\n",
    "    model.eval()\n",
    "    y_true, y_pred = [], []\n",
    "    with torch.no_grad():\n",
    "        for x, y in dataloader:\n",
    "            x, y = x.to(DEVICE).float(), y.to(DEVICE)\n",
    "            outputs = model(x)\n",
    "            _, preds = torch.max(outputs, 1)\n",
    "            y_true.extend(y.cpu().numpy())\n",
    "            y_pred.extend(preds.cpu().numpy())\n",
    "    return y_true, y_pred\n"
   ]
  },
  {
   "cell_type": "code",
   "execution_count": null,
   "id": "d1880e1f",
   "metadata": {},
   "outputs": [],
   "source": [
    "train_losses, train_accuracies = [], []\n",
    "\n",
    "for epoch in range(EPOCHS):\n",
    "    model.train()\n",
    "    running_loss, correct = 0.0, 0\n",
    "    for images, labels in train_loader:\n",
    "        images, labels = images.to(DEVICE).float(), labels.to(DEVICE)\n",
    "        optimizer.zero_grad()\n",
    "        outputs = model(images)\n",
    "        loss = criterion(outputs, labels)\n",
    "        loss.backward()\n",
    "        optimizer.step()\n",
    "        running_loss += loss.item() * images.size(0)\n",
    "        _, preds = torch.max(outputs, 1)\n",
    "        correct += (preds == labels).sum().item()\n",
    "\n",
    "    train_loss = running_loss / len(train_loader.dataset)\n",
    "    train_acc = correct / len(train_loader.dataset)\n",
    "    train_losses.append(train_loss)\n",
    "    train_accuracies.append(train_acc)\n",
    "\n",
    "    y_true, y_pred = evaluate(model, test_loader)\n",
    "    val_acc = accuracy_score(y_true, y_pred)\n",
    "    scheduler.step(val_acc)\n",
    "\n",
    "    print(f\"Epoch {epoch+1}, Train Loss: {train_loss:.4f}, Train Acc: {train_acc:.4f}, Val Acc: {val_acc:.4f}\")\n",
    "\n",
    "    if val_acc > best_val_acc:\n",
    "        best_val_acc = val_acc\n",
    "        patience_counter = 0\n",
    "        torch.save(model.state_dict(), \"best_model.pt\")\n",
    "    else:\n",
    "        patience_counter += 1\n",
    "        if patience_counter >= PATIENCE:\n",
    "            print(\"Early stopping triggered.\")\n",
    "            break\n"
   ]
  },
  {
   "cell_type": "code",
   "execution_count": null,
   "id": "1b98b9ef",
   "metadata": {},
   "outputs": [],
   "source": [
    "import mlflow.pyfunc\n",
    "\n",
    "class WrappedResNet18(mlflow.pyfunc.PythonModel):\n",
    "    def load_context(self, context):\n",
    "        import torch\n",
    "        import torch.nn as nn\n",
    "        import torchvision.models as models\n",
    "        weights_path = context.artifacts[\"model_weights\"]\n",
    "        model = models.resnet18(weights=models.ResNet18_Weights.DEFAULT)\n",
    "        model.fc = nn.Linear(model.fc.in_features, 2)\n",
    "        model.load_state_dict(torch.load(weights_path, map_location=\"cpu\"))\n",
    "        model.eval()\n",
    "        self.model = model\n",
    "\n",
    "    def predict(self, context, model_input):\n",
    "        import torch\n",
    "        import numpy as np\n",
    "        arr = np.array(model_input, dtype=np.float32)\n",
    "        tensor = torch.tensor(arr).view(-1, 3, 224, 224)\n",
    "        with torch.no_grad():\n",
    "            output = self.model(tensor)\n",
    "            return torch.argmax(output, dim=1).numpy()\n"
   ]
  },
  {
   "cell_type": "code",
   "execution_count": null,
   "id": "70bd0ffc",
   "metadata": {},
   "outputs": [],
   "source": [
    "torch.save(model.state_dict(), \"best_model.pt\")\n",
    "\n",
    "mlflow.set_tracking_uri(\"http://127.0.0.1:5000\")\n",
    "mlflow.set_experiment(\"hotdog-classifier-resnet18-pyfunc\")\n",
    "\n",
    "with mlflow.start_run():\n",
    "    mlflow.pyfunc.log_model(\n",
    "        artifact_path=\"model\",\n",
    "        python_model=WrappedResNet18(),\n",
    "        artifacts={\"model_weights\": \"best_model.pt\"}\n",
    "    )\n",
    "    print(\"✅ PyFunc model logged and ready to serve.\")\n"
   ]
  }
 ],
 "metadata": {},
 "nbformat": 4,
 "nbformat_minor": 5
}